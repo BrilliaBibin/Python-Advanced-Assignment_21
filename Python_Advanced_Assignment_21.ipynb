{
  "nbformat": 4,
  "nbformat_minor": 0,
  "metadata": {
    "colab": {
      "provenance": []
    },
    "kernelspec": {
      "name": "python3",
      "display_name": "Python 3"
    },
    "language_info": {
      "name": "python"
    }
  },
  "cells": [
    {
      "cell_type": "markdown",
      "source": [
        "Q1. What is a probability distribution, exactly? If the values are meant to be random, how can you predict them at all?\n",
        "\n",
        "   A probability distribution describes how a random variable is\n",
        "distributed,it tells us which values a random variable is most likely to take on and which values are less likely.Based on the previous data and the occurences of the random event, we can predict the outcome in terms of probabilities."
      ],
      "metadata": {
        "id": "4eg2NTiaoDjk"
      }
    },
    {
      "cell_type": "markdown",
      "source": [
        "Q2. Is there a distinction between true random numbers and pseudo-random numbers, if there is one? Why are the latter considered “good enough”?\n",
        "\n",
        "  The difference between true random number(TRN) and pseudo-random\n",
        "number(PRN), is that TRN's are unpredictable physical values means (like atmospheric noise), and PRN are generated using mathematical algorithms (completely computer-generated).The PRN's are good enough as they follow a uniform distribution and the seed for generating PRN is unpredictable and unknown."
      ],
      "metadata": {
        "id": "qfM7Jb1AojWj"
      }
    },
    {
      "cell_type": "markdown",
      "source": [
        "Q3. What are the two main factors that influence the behaviour of a \"normal\" probability distribution?\n",
        "\n",
        "  A normal distribution is determined by two parameters the mean and\n",
        "the variance. A normal distribution with a mean of 0 and a standard deviation of 1 is called a standard normal distribution."
      ],
      "metadata": {
        "id": "K0nLw4pNo0DW"
      }
    },
    {
      "cell_type": "markdown",
      "source": [
        "Q4. Provide a real-life example of a normal distribution.\n",
        "\n",
        "  A fair rolling of dice is also a good example of normal distribution."
      ],
      "metadata": {
        "id": "cC3SeWToo9UX"
      }
    },
    {
      "cell_type": "markdown",
      "source": [
        "Q5. In the short term, how can you expect a probability distribution to behave? What do you think will happen as the number of trials grows?\n",
        "\n",
        " When trails are less, the variance will large. As the number of trials\n",
        "increase , the variance will reduce."
      ],
      "metadata": {
        "id": "9U5X6bsqpJZk"
      }
    },
    {
      "cell_type": "markdown",
      "source": [
        "Q6. What kind of object can be shuffled by using random.shuffle?\n",
        "\n",
        " Random.shuffle can used to shuffle list object"
      ],
      "metadata": {
        "id": "99UOrpNMpEUH"
      }
    },
    {
      "cell_type": "code",
      "execution_count": 1,
      "metadata": {
        "colab": {
          "base_uri": "https://localhost:8080/"
        },
        "id": "3my44srWoAxY",
        "outputId": "263f2eba-10ca-4758-a017-2c361024fa6b"
      },
      "outputs": [
        {
          "output_type": "stream",
          "name": "stdout",
          "text": [
            "Original list : \n",
            "['A', 'B', 'C', 'D', 'E']\n",
            "\n",
            "After the first shuffle : \n",
            "['E', 'B', 'C', 'D', 'A']\n",
            "\n",
            "After the second shuffle : \n",
            "['D', 'E', 'B', 'A', 'C']\n"
          ]
        }
      ],
      "source": [
        "# import the random module\n",
        "import random\n",
        "\n",
        "# declare a list\n",
        "sample_list = ['A', 'B', 'C', 'D', 'E']\n",
        "\n",
        "print(\"Original list : \")\n",
        "print(sample_list)\n",
        "\n",
        "# first shuffle\n",
        "random.shuffle(sample_list)\n",
        "print(\"\\nAfter the first shuffle : \")\n",
        "print(sample_list)\n",
        "\n",
        "# second shuffle\n",
        "random.shuffle(sample_list)\n",
        "print(\"\\nAfter the second shuffle : \")\n",
        "print(sample_list)"
      ]
    },
    {
      "cell_type": "markdown",
      "source": [
        "Q7. Describe the math package's general categories of functions.\n",
        "\n",
        " The general categories of math package are\n",
        "       1) Trigonometric functions\n",
        "       2)Quadratic functions\n",
        "       3)Exponential functions\n",
        "       4)Hyperbolic functions\n",
        "       5)Periodic functions\n",
        "       6)Arithmetic functions\n",
        "       7)Logarithimic functions\n",
        "       8)Conversions to Integer"
      ],
      "metadata": {
        "id": "4FE3-iHYqlJ4"
      }
    },
    {
      "cell_type": "markdown",
      "source": [
        "Q8. What is the relationship between exponentiation and logarithms?\n",
        "\n",
        "   The exponential function is given by ƒ(x) = ex, whereas the\n",
        "logarithmic function is given by g(x) = ln x, and former is the inverse of the latter."
      ],
      "metadata": {
        "id": "uXfORwk3qzjd"
      }
    },
    {
      "cell_type": "markdown",
      "source": [
        "Q9. What are the three logarithmic functions that Python supports?\n",
        "\n",
        "1)log2(x) - logarithmic value of x to base 2\n",
        "\n",
        "2)log10(x) - logarithmic value of x to base 10\n",
        "\n",
        "3)log(x,base) - logarithmic value of x to base. If only first\n",
        "parameter is given , it computes its value tp base e,natural logarithm\n",
        "\n",
        "4)log1p(x) - natural logarithm (base e) value of 1+x"
      ],
      "metadata": {
        "id": "tDusCpFhrJqI"
      }
    }
  ]
}